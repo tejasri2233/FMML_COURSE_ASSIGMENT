{
  "nbformat": 4,
  "nbformat_minor": 0,
  "metadata": {
    "colab": {
      "provenance": [],
      "include_colab_link": true
    },
    "kernelspec": {
      "name": "python3",
      "display_name": "Python 3"
    },
    "language_info": {
      "name": "python"
    }
  },
  "cells": [
    {
      "cell_type": "markdown",
      "metadata": {
        "id": "view-in-github",
        "colab_type": "text"
      },
      "source": [
        "<a href=\"https://colab.research.google.com/github/tejasri2233/FMML_COURSE_ASSIGMENT/blob/main/Module_01_Lab_02_MLPractice.ipynb\" target=\"_parent\"><img src=\"https://colab.research.google.com/assets/colab-badge.svg\" alt=\"Open In Colab\"/></a>"
      ]
    },
    {
      "cell_type": "markdown",
      "metadata": {
        "id": "3Eu9VZbF01eq"
      },
      "source": [
        "# Machine learning terms and metrics\n",
        "\n",
        "FMML Module 1, Lab 2<br>\n",
        "\n",
        "\n",
        " In this lab, we will show a part of the ML pipeline by extracting features, training and testing"
      ]
    },
    {
      "cell_type": "code",
      "metadata": {
        "id": "8qBvyEem0vLi"
      },
      "source": [
        "import matplotlib.pyplot as plt\n",
        "import numpy as np\n",
        "from sklearn import datasets\n",
        "# set randomseed\n",
        "rng = np.random.default_rng(seed=42)"
      ],
      "execution_count": 1,
      "outputs": []
    },
    {
      "cell_type": "markdown",
      "metadata": {
        "id": "u3t59g5s1HfC"
      },
      "source": [
        "In this lab, we will use the California Housing dataset. There are 20640 samples, each with 8 attributes like income of the block, age of the houses per district etc. The task is to predict the cost of the houses per district.\n",
        "\n",
        "Let us download and examine the dataset."
      ]
    },
    {
      "cell_type": "code",
      "metadata": {
        "id": "8LpqjN991GGJ",
        "colab": {
          "base_uri": "https://localhost:8080/"
        },
        "outputId": "fcb63871-f568-4b54-af5f-6bf9102fca10"
      },
      "source": [
        " dataset =  datasets.fetch_california_housing()\n",
        " # print(dataset.DESCR)  # uncomment this if you want to know more about this dataset\n",
        " # print(dataset.keys())  # if you want to know what else is there in this dataset\n",
        " dataset.target = dataset.target.astype(np.int) # so that we can classify\n",
        " print(dataset.data.shape)\n",
        " print(dataset.target.shape)"
      ],
      "execution_count": 2,
      "outputs": [
        {
          "output_type": "stream",
          "name": "stdout",
          "text": [
            "(20640, 8)\n",
            "(20640,)\n"
          ]
        },
        {
          "output_type": "stream",
          "name": "stderr",
          "text": [
            "<ipython-input-2-60ae2e9a125e>:4: DeprecationWarning: `np.int` is a deprecated alias for the builtin `int`. To silence this warning, use `int` by itself. Doing this will not modify any behavior and is safe. When replacing `np.int`, you may wish to use e.g. `np.int64` or `np.int32` to specify the precision. If you wish to review your current use, check the release note link for additional information.\n",
            "Deprecated in NumPy 1.20; for more details and guidance: https://numpy.org/devdocs/release/1.20.0-notes.html#deprecations\n",
            "  dataset.target = dataset.target.astype(np.int) # so that we can classify\n"
          ]
        }
      ]
    },
    {
      "cell_type": "markdown",
      "metadata": {
        "id": "iNx4174W5xRg"
      },
      "source": [
        "Here is a function for calculating the 1-nearest neighbours"
      ]
    },
    {
      "cell_type": "code",
      "metadata": {
        "id": "07zpydQj1hIQ"
      },
      "source": [
        "def NN1(traindata, trainlabel, query):\n",
        "  diff  = traindata - query  # find the difference between features. Numpy automatically takes care of the size here\n",
        "  sq = diff*diff # square the differences\n",
        "  dist = sq.sum(1) # add up the squares\n",
        "  label = trainlabel[np.argmin(dist)] # our predicted label is the label of the training data which has the least distance from the query\n",
        "  return label\n",
        "\n",
        "def NN(traindata, trainlabel, testdata):\n",
        "  # we will run nearest neighbour for each sample in the test data\n",
        "  # and collect the predicted classes in an array using list comprehension\n",
        "  predlabel = np.array([NN1(traindata, trainlabel, i) for i in testdata])\n",
        "  return predlabel"
      ],
      "execution_count": 3,
      "outputs": []
    },
    {
      "cell_type": "markdown",
      "metadata": {
        "id": "03JktkfIGaje"
      },
      "source": [
        "We will also define a 'random classifier', which randomly allots labels to each sample"
      ]
    },
    {
      "cell_type": "code",
      "metadata": {
        "id": "fogWAtjyGhAH"
      },
      "source": [
        "def RandomClassifier(traindata, trainlabel, testdata):\n",
        "  # in reality, we don't need these arguments\n",
        "\n",
        "  classes = np.unique(trainlabel)\n",
        "  rints = rng.integers(low=0, high=len(classes), size=len(testdata))\n",
        "  predlabel = classes[rints]\n",
        "  return predlabel"
      ],
      "execution_count": 4,
      "outputs": []
    },
    {
      "cell_type": "markdown",
      "metadata": {
        "id": "1Hjf1KHs7fU5"
      },
      "source": [
        "Let us define a metric 'Accuracy' to see how good our learning algorithm is. Accuracy is the ratio of the number of correctly classified samples to the total number of samples. The higher the accuracy, the better the algorithm."
      ]
    },
    {
      "cell_type": "code",
      "metadata": {
        "id": "ouuCqWU07bz-"
      },
      "source": [
        "def Accuracy(gtlabel, predlabel):\n",
        "  assert len(gtlabel)==len(predlabel), \"Length of the groundtruth labels and predicted labels should be the same\"\n",
        "  correct = (gtlabel==predlabel).sum() # count the number of times the groundtruth label is equal to the predicted label.\n",
        "  return correct/len(gtlabel)"
      ],
      "execution_count": 5,
      "outputs": []
    },
    {
      "cell_type": "markdown",
      "metadata": {
        "id": "4vJFwBFa9Klw"
      },
      "source": [
        "Let us make a function to split the dataset with the desired probability."
      ]
    },
    {
      "cell_type": "code",
      "metadata": {
        "id": "Ko0VzpSM2Tdi"
      },
      "source": [
        "def split(data, label, percent):\n",
        "  # generate a random number for each sample\n",
        "  rnd = rng.random(len(label))\n",
        "  split1 = rnd<percent\n",
        "  split2 = rnd>=percent\n",
        "  split1data = data[split1,:]\n",
        "  split1label = label[split1]\n",
        "  split2data = data[split2,:]\n",
        "  split2label = label[split2]\n",
        "  return split1data, split1label, split2data, split2label"
      ],
      "execution_count": 6,
      "outputs": []
    },
    {
      "cell_type": "markdown",
      "metadata": {
        "id": "AcK3LEAJ_LGC"
      },
      "source": [
        "We will reserve 20% of our dataset as the test set. We will not change this portion throughout our experiments"
      ]
    },
    {
      "cell_type": "code",
      "metadata": {
        "id": "bBZkHBLJ1iU-",
        "colab": {
          "base_uri": "https://localhost:8080/"
        },
        "outputId": "f5bfe1ec-bb58-499f-c9d0-3b818d052f0d"
      },
      "source": [
        "testdata, testlabel, alltraindata, alltrainlabel = split(dataset.data, dataset.target, 20/100)\n",
        "print('Number of test samples = ', len(testlabel))\n",
        "print('Number of other samples = ', len(alltrainlabel))\n",
        "print('Percent of test data = ', len(testlabel)*100/len(dataset.target),'%')"
      ],
      "execution_count": 7,
      "outputs": [
        {
          "output_type": "stream",
          "name": "stdout",
          "text": [
            "Number of test samples =  4144\n",
            "Number of other samples =  16496\n",
            "Percent of test data =  20.07751937984496 %\n"
          ]
        }
      ]
    },
    {
      "cell_type": "markdown",
      "metadata": {
        "id": "a6Ss0Z6IAGNV"
      },
      "source": [
        "## Experiments with splits\n",
        "\n",
        "Let us reserve some of our train data as a validation set"
      ]
    },
    {
      "cell_type": "code",
      "metadata": {
        "id": "WFew2iry_7W7"
      },
      "source": [
        "traindata, trainlabel, valdata, vallabel = split(alltraindata, alltrainlabel, 75/100)"
      ],
      "execution_count": 8,
      "outputs": []
    },
    {
      "cell_type": "markdown",
      "metadata": {
        "id": "60hiu4clFN1i"
      },
      "source": [
        "What is the accuracy of our classifiers on the train dataset?"
      ]
    },
    {
      "cell_type": "code",
      "metadata": {
        "id": "DBlZDTHUFTZx",
        "colab": {
          "base_uri": "https://localhost:8080/"
        },
        "outputId": "c106e9e8-dfca-4c9c-d8eb-40ea5afd2a82"
      },
      "source": [
        "trainpred = NN(traindata, trainlabel, traindata)\n",
        "trainAccuracy = Accuracy(trainlabel, trainpred)\n",
        "print(\"Train accuracy using nearest neighbour is \", trainAccuracy)\n",
        "\n",
        "trainpred = RandomClassifier(traindata, trainlabel, traindata)\n",
        "trainAccuracy = Accuracy(trainlabel, trainpred)\n",
        "print(\"Train accuracy using random classifier is \", trainAccuracy)"
      ],
      "execution_count": 9,
      "outputs": [
        {
          "output_type": "stream",
          "name": "stdout",
          "text": [
            "Train accuracy using nearest neighbour is  1.0\n",
            "Train accuracy using random classifier is  0.164375808538163\n"
          ]
        }
      ]
    },
    {
      "cell_type": "markdown",
      "metadata": {
        "id": "7h08-9gJDtSy"
      },
      "source": [
        "For nearest neighbour, the train accuracy is always 1. The accuracy of the random classifier is close to 1/(number of classes) which is 0.1666 in our case.\n",
        "\n",
        "Let us predict the labels for our validation set and get the accuracy"
      ]
    },
    {
      "cell_type": "code",
      "metadata": {
        "id": "4h7bXoW_2H3v",
        "colab": {
          "base_uri": "https://localhost:8080/"
        },
        "outputId": "7f3d9314-6838-479c-c210-803cb40e7ece"
      },
      "source": [
        "valpred = NN(traindata, trainlabel, valdata)\n",
        "valAccuracy = Accuracy(vallabel, valpred)\n",
        "print(\"Validation accuracy using nearest neighbour is \", valAccuracy)\n",
        "\n",
        "valpred = RandomClassifier(traindata, trainlabel, valdata)\n",
        "valAccuracy = Accuracy(vallabel, valpred)\n",
        "print(\"Validation accuracy using random classifier is \", valAccuracy)"
      ],
      "execution_count": 10,
      "outputs": [
        {
          "output_type": "stream",
          "name": "stdout",
          "text": [
            "Validation accuracy using nearest neighbour is  0.34108527131782945\n",
            "Validation accuracy using random classifier is  0.1688468992248062\n"
          ]
        }
      ]
    },
    {
      "cell_type": "markdown",
      "metadata": {
        "id": "py9bLguFEjfg"
      },
      "source": [
        "Validation accuracy of nearest neighbour is considerably less than its train accuracy while the validation accuracy of random classifier is the same. However, the validation accuracy of nearest neighbour is twice that of the random classifier.\n",
        "\n",
        "Now let us try another random split and check the validation accuracy"
      ]
    },
    {
      "cell_type": "code",
      "metadata": {
        "id": "ujm3cyYzEntE",
        "colab": {
          "base_uri": "https://localhost:8080/"
        },
        "outputId": "aa563cfe-cee2-4ed6-f564-1e73ff73ff42"
      },
      "source": [
        "traindata, trainlabel, valdata, vallabel = split(alltraindata, alltrainlabel, 75/100)\n",
        "valpred = NN(traindata, trainlabel, valdata)\n",
        "valAccuracy = Accuracy(vallabel, valpred)\n",
        "print(\"Validation accuracy of nearest neighbour is \", valAccuracy)"
      ],
      "execution_count": 11,
      "outputs": [
        {
          "output_type": "stream",
          "name": "stdout",
          "text": [
            "Validation accuracy of nearest neighbour is  0.34048257372654156\n"
          ]
        }
      ]
    },
    {
      "cell_type": "markdown",
      "metadata": {
        "id": "oSOx7U83EKie"
      },
      "source": [
        "You can run the above cell multiple times to try with different random splits.\n",
        "We notice that the accuracy is different for each run, but close together.\n",
        "\n",
        "Now let us compare it with the accuracy we get on the test dataset."
      ]
    },
    {
      "cell_type": "code",
      "metadata": {
        "id": "PNEZ5ToYBEDW",
        "colab": {
          "base_uri": "https://localhost:8080/"
        },
        "outputId": "674c7ab9-572b-4a02-c615-b24e9fa75e8d"
      },
      "source": [
        "testpred = NN(alltraindata, alltrainlabel, testdata)\n",
        "testAccuracy = Accuracy(testlabel, testpred)\n",
        "print('Test accuracy is ', testAccuracy)"
      ],
      "execution_count": 12,
      "outputs": [
        {
          "output_type": "stream",
          "name": "stdout",
          "text": [
            "Test accuracy is  0.34917953667953666\n"
          ]
        }
      ]
    },
    {
      "cell_type": "markdown",
      "metadata": {
        "id": "w3dGD531K3gH"
      },
      "source": [
        "### Try it out for yourself and answer:\n",
        "1. How is the accuracy of the validation set affected if we increase the percentage of validation set? What happens when we reduce it?\n",
        "2. How does the size of the train and validation set affect how well we can predict the accuracy on the test set using the validation set?\n",
        "3. What do you think is a good percentage to reserve for the validation set so that thest two factors are balanced?\n",
        "\n",
        "Answer for both nearest neighbour and random classifier. You can note down the values for your experiments and plot a graph using  <a href=https://matplotlib.org/stable/gallery/lines_bars_and_markers/step_demo.html#sphx-glr-gallery-lines-bars-and-markers-step-demo-py>plt.plot<href>. Check also for extreme values for splits, like 99.9% or 0.1%"
      ]
    },
    {
      "cell_type": "markdown",
      "metadata": {
        "id": "PnYvkAZLQY7h"
      },
      "source": [
        "## Multiple Splits\n",
        "\n",
        "One way to get more accurate estimates for the test accuracy is by using <b>crossvalidation</b>. Here, we will try a simple version, where we do multiple train/val splits and take the average of validation accuracies as the test accuracy estimation. Here is a function for doing this. Note that this function will take a long time to execute."
      ]
    },
    {
      "cell_type": "code",
      "metadata": {
        "id": "E4nGCUQXBTzo"
      },
      "source": [
        "# you can use this function for random classifier also\n",
        "def AverageAccuracy(alldata, alllabel, splitpercent, iterations, classifier=NN):\n",
        "  accuracy = 0\n",
        "  for ii in range(iterations):\n",
        "    traindata, trainlabel, valdata, vallabel = split(alldata, alllabel, splitpercent)\n",
        "    valpred = classifier(traindata, trainlabel, valdata)\n",
        "    accuracy += Accuracy(vallabel, valpred)\n",
        "  return accuracy/iterations # average of all accuracies"
      ],
      "execution_count": 13,
      "outputs": []
    },
    {
      "cell_type": "code",
      "metadata": {
        "id": "H3qtNar7Bbik",
        "colab": {
          "base_uri": "https://localhost:8080/"
        },
        "outputId": "f16511bb-2978-43b6-f280-09dc376117b4"
      },
      "source": [
        "print('Average validation accuracy is ', AverageAccuracy(alltraindata, alltrainlabel, 75/100, 10, classifier=NN))\n",
        "testpred = NN(alltraindata, alltrainlabel, testdata)\n",
        "print('test accuracy is ',Accuracy(testlabel, testpred) )"
      ],
      "execution_count": 14,
      "outputs": [
        {
          "output_type": "stream",
          "name": "stdout",
          "text": [
            "Average validation accuracy is  0.33584635395170215\n",
            "test accuracy is  0.34917953667953666\n"
          ]
        }
      ]
    },
    {
      "cell_type": "markdown",
      "metadata": {
        "id": "33GIn4x5VH-d"
      },
      "source": [
        "This is a very simple way of doing cross-validation. There are many well-known algorithms for cross-validation, like k-fold cross-validation, leave-one-out etc. This will be covered in detail in a later module. For more information about cross-validation, check <a href=https://en.wikipedia.org/wiki/Cross-validation_(statistics)>Cross-validatioin (Wikipedia)</a>\n",
        "\n",
        "### Questions\n",
        "1. Does averaging the validation accuracy across multiple splits give more consistent results?\n",
        "2. Does it give more accurate estimate of test accuracy?\n",
        "3. What is the effect of the number of iterations on the estimate? Do we get a better estimate with higher iterations?\n",
        "4. Consider the results you got for the previous questions. Can we deal with a very small train dataset or validation dataset by increasing the iterations?\n"
      ]
    },
    {
      "cell_type": "markdown",
      "source": [
        "**Question** **1**\n",
        "\n",
        "Averaging validation accuracy across multiple splits, typically through techniques like k-fold cross-validation, can provide more consistent and reliable results. This helps reduce the impact of randomness in the data split and provides a more robust estimate of your model's performance. It's a common practice in machine learning to assess model performance and gain a better understanding of how well your algorithm generalizes to different subsets of the data.\n",
        "1. **Reducing Variance**: A single train-test split may not be representative of the entire dataset. By averaging results from multiple splits, you reduce the impact of random variations in data distribution that can affect model performance. This gives you a more stable estimate of your model's generalization ability.\n",
        "\n",
        "2. **Improved Confidence**: Averaging results provides a confidence interval around your performance metric. You get a clearer sense of how well your model is likely to perform on unseen data, along with an indication of the variability in performance.\n",
        "\n",
        "3. **Bias Reduction**: A single split might accidentally contain a particularly easy or difficult subset of data. Averaging over multiple splits helps mitigate this bias, ensuring a more accurate assessment of your model's true performance.\n",
        "\n",
        "4. **Hyperparameter Tuning**: When tuning hyperparameters, using cross-validation allows you to assess how different settings impact model performance more effectively. This can lead to better choices for hyperparameters.\n",
        "\n",
        "5. **Model Selection**: Cross-validation can aid in comparing different models or algorithms more reliably. You can choose the one with the best average performance across multiple splits.\n",
        "Averaging validation accuracy across multiple splits is a best practice in machine learning for obtaining a more robust and trustworthy evaluation of your model's performance. It helps you make better-informed decisions about model selection, hyperparameter tuning, and understanding how your model generalizes to unseen data."
      ],
      "metadata": {
        "id": "rPZc2pqjrnYF"
      }
    },
    {
      "cell_type": "markdown",
      "source": [
        "Question 2\n",
        "\n",
        "Averaging validation accuracy across multiple splits, such as through k-fold cross-validation, provides a more accurate estimate of how well your model is likely to perform on unseen data. However, it's important to note that this estimated performance is still not the same as the true test accuracy, which is only obtained when the model is evaluated on a completely independent and previously unseen dataset.\n",
        "\n",
        "Here's why cross-validation provides a more accurate estimate:\n",
        "\n",
        "1. **Reduces Overfitting to Validation Data**: When you split your data into a training set and a single validation set, there's a risk that your model might overfit to the specific characteristics of that validation set. Cross-validation mitigates this by averaging results over multiple validation sets, ensuring that the model's performance is not overly influenced by any one particular split.\n",
        "\n",
        "2. **Generalizes Better**: Cross-validation provides a more generalized estimate of your model's performance because it assesses how well the model performs on various subsets of the data. This makes it a better indicator of how your model will perform on unseen data.\n",
        "\n",
        "3. **Statistical Significance**: By aggregating results over multiple splits, you can calculate statistical measures like confidence intervals, which give you a better understanding of the range within which the true test accuracy is likely to fall.\n",
        "\n",
        "While cross-validation gives you a more accurate estimate of test performance, it's still important to eventually evaluate your model on a completely independent test dataset to get the true test accuracy. This dataset should not have been used in any way during the model training or validation processes to ensure an unbiased assessment of your model's performance."
      ],
      "metadata": {
        "id": "Dp0wN2gPsGvK"
      }
    },
    {
      "cell_type": "markdown",
      "source": [
        "Question 3\n",
        "\n",
        "The number of iterations or folds in cross-validation can have an impact on the estimate of your model's performance, but there's a trade-off involved.\n",
        "\n",
        "1. **Fewer Iterations (Folds):**\n",
        "   - Pros: Faster to compute, less computationally intensive.\n",
        "   - Cons: Less robust estimate. It may be more influenced by the specific data splits, making it less reliable. It might not capture the variability in your data effectively.\n",
        "\n",
        "2. **More Iterations (Folds):**\n",
        "   - Pros: Provides a more robust and reliable estimate of model performance. Reduces the influence of random data splits. Better captures the variability in your data.\n",
        "   - Cons: Requires more computational resources and time.\n",
        "\n",
        "In general, increasing the number of iterations (folds) tends to provide a better estimate of your model's performance. However, there are diminishing returns. Beyond a certain point, increasing the number of iterations might not significantly improve the estimate, but it will increase the computational cost.\n",
        "\n",
        "A common choice is to use k-fold cross-validation, where \"k\" is typically set between 5 and 10. This strikes a balance between computational cost and obtaining a reasonably robust estimate. However, the choice of \"k\" can depend on factors like the size of your dataset and the computational resources available.\n",
        "\n",
        "In summary, increasing the number of iterations in cross-validation can lead to a better estimate of your model's performance, but you should choose a value that balances accuracy with computational resources."
      ],
      "metadata": {
        "id": "Jyfb_fXatj_0"
      }
    },
    {
      "cell_type": "code",
      "source": [
        "from sklearn.model_selection import cross_val_score\n",
        "from sklearn.model_selection import KFold\n",
        "from sklearn.linear_model import LogisticRegression  # Replace with your chosen model\n",
        "from sklearn.datasets import load_iris  # Replace with your dataset\n",
        "\n",
        "# Load your dataset (replace 'load_iris' with your data loading code)\n",
        "data = load_iris()\n",
        "X, y = data.data, data.target\n",
        "\n",
        "# Create a model (replace with your model creation code)\n",
        "model = LogisticRegression()\n",
        "\n",
        "# Specify the number of folds\n",
        "k = 5\n",
        "\n",
        "# Create a KFold object\n",
        "kf = KFold(n_splits=k, shuffle=True, random_state=42)  # 'shuffle' for random data splits\n",
        "\n",
        "# Perform cross-validation and get accuracy scores\n",
        "scores = cross_val_score(model, X, y, cv=kf)\n",
        "\n",
        "# Print the accuracy scores for each fold and the average\n",
        "for i, score in enumerate(scores):\n",
        "    print(f\"Fold {i + 1} Accuracy: {score:.4f}\")\n",
        "\n",
        "print(f\"Average Accuracy: {scores.mean():.4f}\")"
      ],
      "metadata": {
        "id": "eFSMlkyrtxO9",
        "outputId": "a1de0d74-03de-4584-d2bb-ad06ceed2beb",
        "colab": {
          "base_uri": "https://localhost:8080/"
        }
      },
      "execution_count": 15,
      "outputs": [
        {
          "output_type": "stream",
          "name": "stdout",
          "text": [
            "Fold 1 Accuracy: 1.0000\n",
            "Fold 2 Accuracy: 1.0000\n",
            "Fold 3 Accuracy: 0.9333\n",
            "Fold 4 Accuracy: 0.9667\n",
            "Fold 5 Accuracy: 0.9667\n",
            "Average Accuracy: 0.9733\n"
          ]
        },
        {
          "output_type": "stream",
          "name": "stderr",
          "text": [
            "/usr/local/lib/python3.10/dist-packages/sklearn/linear_model/_logistic.py:458: ConvergenceWarning: lbfgs failed to converge (status=1):\n",
            "STOP: TOTAL NO. of ITERATIONS REACHED LIMIT.\n",
            "\n",
            "Increase the number of iterations (max_iter) or scale the data as shown in:\n",
            "    https://scikit-learn.org/stable/modules/preprocessing.html\n",
            "Please also refer to the documentation for alternative solver options:\n",
            "    https://scikit-learn.org/stable/modules/linear_model.html#logistic-regression\n",
            "  n_iter_i = _check_optimize_result(\n",
            "/usr/local/lib/python3.10/dist-packages/sklearn/linear_model/_logistic.py:458: ConvergenceWarning: lbfgs failed to converge (status=1):\n",
            "STOP: TOTAL NO. of ITERATIONS REACHED LIMIT.\n",
            "\n",
            "Increase the number of iterations (max_iter) or scale the data as shown in:\n",
            "    https://scikit-learn.org/stable/modules/preprocessing.html\n",
            "Please also refer to the documentation for alternative solver options:\n",
            "    https://scikit-learn.org/stable/modules/linear_model.html#logistic-regression\n",
            "  n_iter_i = _check_optimize_result(\n"
          ]
        }
      ]
    },
    {
      "cell_type": "code",
      "source": [
        "\n",
        "from sklearn.model_selection import cross_val_score\n",
        "from sklearn.model_selection import KFold\n",
        "from sklearn.linear_model import LogisticRegression  # Replace with your chosen model\n",
        "from sklearn.datasets import load_iris  # Replace with your dataset\n",
        "\n",
        "# Load your dataset (replace 'load_iris' with your data loading code)\n",
        "data = load_iris()\n",
        "X, y = data.data, data.target\n",
        "\n",
        "# Create a model (replace with your model creation code)\n",
        "model = LogisticRegression()\n",
        "\n",
        "# Specify the number of folds\n",
        "k = 5\n",
        "\n",
        "# Create a KFold object\n",
        "kf = KFold(n_splits=k, shuffle=True, random_state=42)  # 'shuffle' for random data splits\n",
        "\n",
        "# Perform cross-validation and get accuracy scores\n",
        "scores = cross_val_score(model, X, y, cv=kf)\n",
        "\n",
        "# Print the accuracy scores for each fold and the average\n",
        "for i, score in enumerate(scores):\n",
        "    print(f\"Fold {i + 1} Accuracy: {score:.4f}\")\n",
        "\n",
        "print(f\"Average Accuracy: {scores.mean():.4f}\")\n",
        "\n"
      ],
      "metadata": {
        "id": "zSvIIlrzt3XA",
        "outputId": "d08108c0-2735-4b1e-e55d-48e301a67463",
        "colab": {
          "base_uri": "https://localhost:8080/"
        }
      },
      "execution_count": 16,
      "outputs": [
        {
          "output_type": "stream",
          "name": "stdout",
          "text": [
            "Fold 1 Accuracy: 1.0000\n",
            "Fold 2 Accuracy: 1.0000\n",
            "Fold 3 Accuracy: 0.9333\n",
            "Fold 4 Accuracy: 0.9667\n",
            "Fold 5 Accuracy: 0.9667\n",
            "Average Accuracy: 0.9733\n"
          ]
        },
        {
          "output_type": "stream",
          "name": "stderr",
          "text": [
            "/usr/local/lib/python3.10/dist-packages/sklearn/linear_model/_logistic.py:458: ConvergenceWarning: lbfgs failed to converge (status=1):\n",
            "STOP: TOTAL NO. of ITERATIONS REACHED LIMIT.\n",
            "\n",
            "Increase the number of iterations (max_iter) or scale the data as shown in:\n",
            "    https://scikit-learn.org/stable/modules/preprocessing.html\n",
            "Please also refer to the documentation for alternative solver options:\n",
            "    https://scikit-learn.org/stable/modules/linear_model.html#logistic-regression\n",
            "  n_iter_i = _check_optimize_result(\n",
            "/usr/local/lib/python3.10/dist-packages/sklearn/linear_model/_logistic.py:458: ConvergenceWarning: lbfgs failed to converge (status=1):\n",
            "STOP: TOTAL NO. of ITERATIONS REACHED LIMIT.\n",
            "\n",
            "Increase the number of iterations (max_iter) or scale the data as shown in:\n",
            "    https://scikit-learn.org/stable/modules/preprocessing.html\n",
            "Please also refer to the documentation for alternative solver options:\n",
            "    https://scikit-learn.org/stable/modules/linear_model.html#logistic-regression\n",
            "  n_iter_i = _check_optimize_result(\n"
          ]
        }
      ]
    },
    {
      "cell_type": "markdown",
      "source": [
        "In this code:\n",
        "\n",
        "1. We load a dataset (you should replace `load_iris` with your own data loading code).\n",
        "2. We create a machine learning model (replace `LogisticRegression()` with your chosen model).\n",
        "3. We specify the number of folds (in this case, 5).\n",
        "4. We create a `KFold` object, which will handle the data splitting.\n",
        "5. We use `cross_val_score` to perform cross-validation and obtain accuracy scores for each fold.\n",
        "6. Finally, we print the accuracy scores for each fold and the average accuracy across all folds.\n",
        "\n",
        "You can replace the dataset, model, and other parameters to adapt this code to your specific machine learning task."
      ],
      "metadata": {
        "id": "i9e1gLKqvPYo"
      }
    },
    {
      "cell_type": "markdown",
      "source": [
        "Question 4\n",
        "\n",
        " Increasing the number of iterations (folds) in cross-validation can help to some extent when dealing with a very small training dataset or validation dataset, but it may not completely overcome the limitations imposed by small data. Here's how increasing iterations can help and the caveats to consider:\n",
        "\n",
        "**Advantages of Increasing Iterations:**\n",
        "1. **More Reliable Estimates:** With more iterations, you reduce the impact of random data splits. This means your estimate of model performance becomes more reliable and less dependent on the specific data partition.\n",
        "\n",
        "2. **Better Utilization:** When you have a small dataset, increasing the number of iterations allows you to use the available data more effectively for both training and validation.\n",
        "\n",
        "**Caveats and Considerations:**\n",
        "1. **Computationally Expensive:** As you increase the number of iterations, the computational cost also increases. This can be a limiting factor if you have resource constraints.\n",
        "\n",
        "2. **Limited Data:** While more iterations can improve reliability, they don't magically generate more data. If your dataset is extremely small, cross-validation can only do so much. It's always ideal to have a reasonably sized dataset for robust model training and evaluation.\n",
        "\n",
        "3. **Risk of Overfitting:** With very small datasets, there's a risk that your model may overfit to the specific data splits in cross-validation, especially if you use a complex model. In such cases, even with more iterations, your model may not generalize well to unseen data.\n",
        "\n",
        "4. **Bias-Variance Trade-off:** Increasing iterations can help reduce the variance in your estimate, but it doesn't address potential bias introduced by a small dataset. The choice of model and features can have a substantial impact on bias.\n",
        "\n",
        "In summary, while increasing iterations in cross-validation is a useful strategy to improve reliability and make the best use of available data, it cannot completely compensate for the limitations of an extremely small training or validation dataset. It's crucial to exercise caution and consider the trade-offs involved, and in cases of severely limited data, exploring techniques like data augmentation or acquiring more data may be necessary to build a robust model."
      ],
      "metadata": {
        "id": "Vet5jXjUt-mk"
      }
    },
    {
      "cell_type": "code",
      "source": [
        "from sklearn.model_selection import cross_val_score\n",
        "from sklearn.model_selection import KFold\n",
        "from sklearn.linear_model import LogisticRegression  # Replace with your chosen model\n",
        "import numpy as np\n",
        "\n",
        "# Example small dataset (replace with your own data)\n",
        "X = np.array([[1, 2], [2, 3], [3, 4], [4, 5], [5, 6]])\n",
        "y = np.array([0, 1, 0, 1, 0])\n",
        "\n",
        "# Create a model (replace with your model creation code)\n",
        "model = LogisticRegression()\n",
        "\n",
        "# Specify the number of folds\n",
        "k = 5  # You can adjust this based on the size of your dataset\n",
        "\n",
        "# Create a KFold object\n",
        "kf = KFold(n_splits=k, shuffle=True, random_state=42)  # 'shuffle' for random data splits\n",
        "\n",
        "# Perform cross-validation and get accuracy scores\n",
        "scores = cross_val_score(model, X, y, cv=kf)\n",
        "\n",
        "# Print the accuracy scores for each fold and the average\n",
        "for i, score in enumerate(scores):\n",
        "    print(f\"Fold {i + 1} Accuracy: {score:.4f}\")\n",
        "\n",
        "print(f\"Average Accuracy: {scores.mean():.4f}\")"
      ],
      "metadata": {
        "id": "Ts7MbgDIuSit",
        "outputId": "b26aca65-32cf-429a-dbbf-9a569567988f",
        "colab": {
          "base_uri": "https://localhost:8080/"
        }
      },
      "execution_count": 17,
      "outputs": [
        {
          "output_type": "stream",
          "name": "stdout",
          "text": [
            "Fold 1 Accuracy: 0.0000\n",
            "Fold 2 Accuracy: 0.0000\n",
            "Fold 3 Accuracy: 1.0000\n",
            "Fold 4 Accuracy: 0.0000\n",
            "Fold 5 Accuracy: 0.0000\n",
            "Average Accuracy: 0.2000\n"
          ]
        }
      ]
    },
    {
      "cell_type": "code",
      "source": [
        "\n",
        "from sklearn.model_selection import cross_val_score\n",
        "from sklearn.model_selection import KFold\n",
        "from sklearn.linear_model import LogisticRegression  # Replace with your chosen model\n",
        "import numpy as np\n",
        "\n",
        "# Example small dataset (replace with your own data)\n",
        "X = np.array([[1, 2], [2, 3], [3, 4], [4, 5], [5, 6]])\n",
        "y = np.array([0, 1, 0, 1, 0])\n",
        "\n",
        "# Create a model (replace with your model creation code)\n",
        "model = LogisticRegression()\n",
        "\n",
        "# Specify the number of folds\n",
        "k = 5  # You can adjust this based on the size of your dataset\n",
        "\n",
        "# Create a KFold object\n",
        "kf = KFold(n_splits=k, shuffle=True, random_state=42)  # 'shuffle' for random data splits\n",
        "\n",
        "# Perform cross-validation and get accuracy scores\n",
        "scores = cross_val_score(model, X, y, cv=kf)\n",
        "\n",
        "# Print the accuracy scores for each fold and the average\n",
        "for i, score in enumerate(scores):\n",
        "    print(f\"Fold {i + 1} Accuracy: {score:.4f}\")\n",
        "\n",
        "print(f\"Average Accuracy: {scores.mean():.4f}\")\n"
      ],
      "metadata": {
        "id": "9whCvNcVuYiB",
        "outputId": "87bacfe0-140a-478f-f13e-f6326a0aad51",
        "colab": {
          "base_uri": "https://localhost:8080/"
        }
      },
      "execution_count": 18,
      "outputs": [
        {
          "output_type": "stream",
          "name": "stdout",
          "text": [
            "Fold 1 Accuracy: 0.0000\n",
            "Fold 2 Accuracy: 0.0000\n",
            "Fold 3 Accuracy: 1.0000\n",
            "Fold 4 Accuracy: 0.0000\n",
            "Fold 5 Accuracy: 0.0000\n",
            "Average Accuracy: 0.2000\n"
          ]
        }
      ]
    },
    {
      "cell_type": "markdown",
      "source": [
        "In this code:\n",
        "\n",
        "1. We create an example small dataset (`X` and `y`). Replace this with your actual data.\n",
        "\n",
        "2. We create a machine learning model (replace `LogisticRegression()` with your chosen model).\n",
        "\n",
        "3. We specify the number of folds (in this case, 5). You can adjust this based on the size of your dataset, but be cautious about using too many folds with very limited data.\n",
        "\n",
        "4. We create a `KFold` object, which will handle the data splitting.\n",
        "\n",
        "5. We use `cross_val_score` to perform cross-validation and obtain accuracy scores for each fold.\n",
        "\n",
        "6. Finally, we print the accuracy scores for each fold and the average accuracy across all folds.\n",
        "\n",
        "Please replace the dataset and model with your specific data and model of interest."
      ],
      "metadata": {
        "id": "BI6qnFDjvA2V"
      }
    }
  ]
}